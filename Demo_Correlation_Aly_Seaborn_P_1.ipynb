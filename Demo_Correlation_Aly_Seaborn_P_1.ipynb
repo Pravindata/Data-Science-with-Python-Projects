{
 "cells": [
  {
   "cell_type": "code",
   "execution_count": 1,
   "metadata": {
    "collapsed": true
   },
   "outputs": [],
   "source": [
    "import pandas as pd\n"
   ]
  },
  {
   "cell_type": "code",
   "execution_count": 2,
   "metadata": {
    "collapsed": true
   },
   "outputs": [],
   "source": [
    "df=pd.read_csv(\"middle_tn_schools.csv\")"
   ]
  },
  {
   "cell_type": "code",
   "execution_count": 3,
   "metadata": {
    "collapsed": false
   },
   "outputs": [
    {
     "data": {
      "text/plain": [
       "(347, 15)"
      ]
     },
     "execution_count": 3,
     "metadata": {},
     "output_type": "execute_result"
    }
   ],
   "source": [
    "df.shape"
   ]
  },
  {
   "cell_type": "code",
   "execution_count": 7,
   "metadata": {
    "collapsed": false
   },
   "outputs": [
    {
     "data": {
      "text/html": [
       "<div>\n",
       "<table border=\"1\" class=\"dataframe\">\n",
       "  <thead>\n",
       "    <tr style=\"text-align: right;\">\n",
       "      <th></th>\n",
       "      <th>name</th>\n",
       "      <th>school_rating</th>\n",
       "      <th>size</th>\n",
       "      <th>reduced_lunch</th>\n",
       "      <th>state_percentile_16</th>\n",
       "      <th>state_percentile_15</th>\n",
       "      <th>stu_teach_ratio</th>\n",
       "      <th>school_type</th>\n",
       "      <th>avg_score_15</th>\n",
       "      <th>avg_score_16</th>\n",
       "      <th>full_time_teachers</th>\n",
       "      <th>percent_black</th>\n",
       "      <th>percent_white</th>\n",
       "      <th>percent_asian</th>\n",
       "      <th>percent_hispanic</th>\n",
       "    </tr>\n",
       "  </thead>\n",
       "  <tbody>\n",
       "    <tr>\n",
       "      <th>0</th>\n",
       "      <td>Allendale Elementary School</td>\n",
       "      <td>5</td>\n",
       "      <td>851</td>\n",
       "      <td>10</td>\n",
       "      <td>90.2</td>\n",
       "      <td>95.8</td>\n",
       "      <td>15.7</td>\n",
       "      <td>Public</td>\n",
       "      <td>89.4</td>\n",
       "      <td>85.2</td>\n",
       "      <td>54</td>\n",
       "      <td>2.9</td>\n",
       "      <td>85.5</td>\n",
       "      <td>1.6</td>\n",
       "      <td>5.6</td>\n",
       "    </tr>\n",
       "    <tr>\n",
       "      <th>1</th>\n",
       "      <td>Anderson Elementary</td>\n",
       "      <td>2</td>\n",
       "      <td>412</td>\n",
       "      <td>71</td>\n",
       "      <td>32.8</td>\n",
       "      <td>37.3</td>\n",
       "      <td>12.8</td>\n",
       "      <td>Public</td>\n",
       "      <td>43.0</td>\n",
       "      <td>38.3</td>\n",
       "      <td>32</td>\n",
       "      <td>3.9</td>\n",
       "      <td>86.7</td>\n",
       "      <td>1.0</td>\n",
       "      <td>4.9</td>\n",
       "    </tr>\n",
       "    <tr>\n",
       "      <th>2</th>\n",
       "      <td>Avoca Elementary</td>\n",
       "      <td>4</td>\n",
       "      <td>482</td>\n",
       "      <td>43</td>\n",
       "      <td>78.4</td>\n",
       "      <td>83.6</td>\n",
       "      <td>16.6</td>\n",
       "      <td>Public</td>\n",
       "      <td>75.7</td>\n",
       "      <td>73.0</td>\n",
       "      <td>29</td>\n",
       "      <td>1.0</td>\n",
       "      <td>91.5</td>\n",
       "      <td>1.2</td>\n",
       "      <td>4.4</td>\n",
       "    </tr>\n",
       "    <tr>\n",
       "      <th>3</th>\n",
       "      <td>Bailey Middle</td>\n",
       "      <td>0</td>\n",
       "      <td>394</td>\n",
       "      <td>91</td>\n",
       "      <td>1.6</td>\n",
       "      <td>1.0</td>\n",
       "      <td>13.1</td>\n",
       "      <td>Public Magnet</td>\n",
       "      <td>2.1</td>\n",
       "      <td>4.4</td>\n",
       "      <td>30</td>\n",
       "      <td>80.7</td>\n",
       "      <td>11.7</td>\n",
       "      <td>2.3</td>\n",
       "      <td>4.3</td>\n",
       "    </tr>\n",
       "    <tr>\n",
       "      <th>4</th>\n",
       "      <td>Barfield Elementary</td>\n",
       "      <td>4</td>\n",
       "      <td>948</td>\n",
       "      <td>26</td>\n",
       "      <td>85.3</td>\n",
       "      <td>89.2</td>\n",
       "      <td>14.8</td>\n",
       "      <td>Public</td>\n",
       "      <td>81.3</td>\n",
       "      <td>79.6</td>\n",
       "      <td>64</td>\n",
       "      <td>11.8</td>\n",
       "      <td>71.2</td>\n",
       "      <td>7.1</td>\n",
       "      <td>6.0</td>\n",
       "    </tr>\n",
       "  </tbody>\n",
       "</table>\n",
       "</div>"
      ],
      "text/plain": [
       "                          name  school_rating  size  reduced_lunch  \\\n",
       "0  Allendale Elementary School              5   851             10   \n",
       "1          Anderson Elementary              2   412             71   \n",
       "2             Avoca Elementary              4   482             43   \n",
       "3                Bailey Middle              0   394             91   \n",
       "4          Barfield Elementary              4   948             26   \n",
       "\n",
       "   state_percentile_16  state_percentile_15  stu_teach_ratio    school_type  \\\n",
       "0                 90.2                 95.8             15.7         Public   \n",
       "1                 32.8                 37.3             12.8         Public   \n",
       "2                 78.4                 83.6             16.6         Public   \n",
       "3                  1.6                  1.0             13.1  Public Magnet   \n",
       "4                 85.3                 89.2             14.8         Public   \n",
       "\n",
       "   avg_score_15  avg_score_16  full_time_teachers  percent_black  \\\n",
       "0          89.4          85.2                  54            2.9   \n",
       "1          43.0          38.3                  32            3.9   \n",
       "2          75.7          73.0                  29            1.0   \n",
       "3           2.1           4.4                  30           80.7   \n",
       "4          81.3          79.6                  64           11.8   \n",
       "\n",
       "   percent_white  percent_asian  percent_hispanic  \n",
       "0           85.5            1.6               5.6  \n",
       "1           86.7            1.0               4.9  \n",
       "2           91.5            1.2               4.4  \n",
       "3           11.7            2.3               4.3  \n",
       "4           71.2            7.1               6.0  "
      ]
     },
     "execution_count": 7,
     "metadata": {},
     "output_type": "execute_result"
    }
   ],
   "source": [
    "df.head()"
   ]
  },
  {
   "cell_type": "code",
   "execution_count": null,
   "metadata": {
    "collapsed": true
   },
   "outputs": [],
   "source": []
  },
  {
   "cell_type": "code",
   "execution_count": null,
   "metadata": {
    "collapsed": true
   },
   "outputs": [],
   "source": []
  },
  {
   "cell_type": "code",
   "execution_count": null,
   "metadata": {
    "collapsed": true
   },
   "outputs": [],
   "source": []
  },
  {
   "cell_type": "code",
   "execution_count": 5,
   "metadata": {
    "collapsed": false
   },
   "outputs": [
    {
     "data": {
      "text/html": [
       "<div>\n",
       "<table border=\"1\" class=\"dataframe\">\n",
       "  <thead>\n",
       "    <tr style=\"text-align: right;\">\n",
       "      <th></th>\n",
       "      <th>school_rating</th>\n",
       "      <th>size</th>\n",
       "      <th>reduced_lunch</th>\n",
       "      <th>state_percentile_16</th>\n",
       "      <th>state_percentile_15</th>\n",
       "      <th>stu_teach_ratio</th>\n",
       "      <th>avg_score_15</th>\n",
       "      <th>avg_score_16</th>\n",
       "      <th>full_time_teachers</th>\n",
       "      <th>percent_black</th>\n",
       "      <th>percent_white</th>\n",
       "      <th>percent_asian</th>\n",
       "      <th>percent_hispanic</th>\n",
       "    </tr>\n",
       "  </thead>\n",
       "  <tbody>\n",
       "    <tr>\n",
       "      <th>count</th>\n",
       "      <td>347.000000</td>\n",
       "      <td>347.000000</td>\n",
       "      <td>347.000000</td>\n",
       "      <td>347.000000</td>\n",
       "      <td>341.000000</td>\n",
       "      <td>347.000000</td>\n",
       "      <td>341.000000</td>\n",
       "      <td>347.000000</td>\n",
       "      <td>347.000000</td>\n",
       "      <td>347.000000</td>\n",
       "      <td>347.000000</td>\n",
       "      <td>347.000000</td>\n",
       "      <td>347.000000</td>\n",
       "    </tr>\n",
       "    <tr>\n",
       "      <th>mean</th>\n",
       "      <td>2.968300</td>\n",
       "      <td>699.472622</td>\n",
       "      <td>50.279539</td>\n",
       "      <td>58.801729</td>\n",
       "      <td>58.249267</td>\n",
       "      <td>15.461671</td>\n",
       "      <td>57.004692</td>\n",
       "      <td>57.049856</td>\n",
       "      <td>44.939481</td>\n",
       "      <td>21.197983</td>\n",
       "      <td>61.673487</td>\n",
       "      <td>2.642651</td>\n",
       "      <td>11.164553</td>\n",
       "    </tr>\n",
       "    <tr>\n",
       "      <th>std</th>\n",
       "      <td>1.690377</td>\n",
       "      <td>400.598636</td>\n",
       "      <td>25.480236</td>\n",
       "      <td>32.540747</td>\n",
       "      <td>32.702630</td>\n",
       "      <td>5.725170</td>\n",
       "      <td>26.696450</td>\n",
       "      <td>27.968974</td>\n",
       "      <td>22.053386</td>\n",
       "      <td>23.562538</td>\n",
       "      <td>27.274859</td>\n",
       "      <td>3.109629</td>\n",
       "      <td>12.030608</td>\n",
       "    </tr>\n",
       "    <tr>\n",
       "      <th>min</th>\n",
       "      <td>0.000000</td>\n",
       "      <td>53.000000</td>\n",
       "      <td>2.000000</td>\n",
       "      <td>0.200000</td>\n",
       "      <td>0.600000</td>\n",
       "      <td>4.700000</td>\n",
       "      <td>1.500000</td>\n",
       "      <td>0.100000</td>\n",
       "      <td>2.000000</td>\n",
       "      <td>0.000000</td>\n",
       "      <td>1.100000</td>\n",
       "      <td>0.000000</td>\n",
       "      <td>0.000000</td>\n",
       "    </tr>\n",
       "    <tr>\n",
       "      <th>25%</th>\n",
       "      <td>2.000000</td>\n",
       "      <td>420.500000</td>\n",
       "      <td>30.000000</td>\n",
       "      <td>30.950000</td>\n",
       "      <td>27.100000</td>\n",
       "      <td>13.700000</td>\n",
       "      <td>37.600000</td>\n",
       "      <td>37.000000</td>\n",
       "      <td>30.000000</td>\n",
       "      <td>3.600000</td>\n",
       "      <td>40.600000</td>\n",
       "      <td>0.750000</td>\n",
       "      <td>3.800000</td>\n",
       "    </tr>\n",
       "    <tr>\n",
       "      <th>50%</th>\n",
       "      <td>3.000000</td>\n",
       "      <td>595.000000</td>\n",
       "      <td>51.000000</td>\n",
       "      <td>66.400000</td>\n",
       "      <td>65.800000</td>\n",
       "      <td>15.000000</td>\n",
       "      <td>61.800000</td>\n",
       "      <td>60.700000</td>\n",
       "      <td>40.000000</td>\n",
       "      <td>13.500000</td>\n",
       "      <td>68.700000</td>\n",
       "      <td>1.600000</td>\n",
       "      <td>6.400000</td>\n",
       "    </tr>\n",
       "    <tr>\n",
       "      <th>75%</th>\n",
       "      <td>4.000000</td>\n",
       "      <td>851.000000</td>\n",
       "      <td>71.500000</td>\n",
       "      <td>88.000000</td>\n",
       "      <td>88.600000</td>\n",
       "      <td>16.700000</td>\n",
       "      <td>79.600000</td>\n",
       "      <td>80.250000</td>\n",
       "      <td>54.000000</td>\n",
       "      <td>28.350000</td>\n",
       "      <td>85.950000</td>\n",
       "      <td>3.100000</td>\n",
       "      <td>13.800000</td>\n",
       "    </tr>\n",
       "    <tr>\n",
       "      <th>max</th>\n",
       "      <td>5.000000</td>\n",
       "      <td>2314.000000</td>\n",
       "      <td>98.000000</td>\n",
       "      <td>99.800000</td>\n",
       "      <td>99.800000</td>\n",
       "      <td>111.000000</td>\n",
       "      <td>99.000000</td>\n",
       "      <td>98.900000</td>\n",
       "      <td>140.000000</td>\n",
       "      <td>97.400000</td>\n",
       "      <td>99.700000</td>\n",
       "      <td>21.100000</td>\n",
       "      <td>65.200000</td>\n",
       "    </tr>\n",
       "  </tbody>\n",
       "</table>\n",
       "</div>"
      ],
      "text/plain": [
       "       school_rating         size  reduced_lunch  state_percentile_16  \\\n",
       "count     347.000000   347.000000     347.000000           347.000000   \n",
       "mean        2.968300   699.472622      50.279539            58.801729   \n",
       "std         1.690377   400.598636      25.480236            32.540747   \n",
       "min         0.000000    53.000000       2.000000             0.200000   \n",
       "25%         2.000000   420.500000      30.000000            30.950000   \n",
       "50%         3.000000   595.000000      51.000000            66.400000   \n",
       "75%         4.000000   851.000000      71.500000            88.000000   \n",
       "max         5.000000  2314.000000      98.000000            99.800000   \n",
       "\n",
       "       state_percentile_15  stu_teach_ratio  avg_score_15  avg_score_16  \\\n",
       "count           341.000000       347.000000    341.000000    347.000000   \n",
       "mean             58.249267        15.461671     57.004692     57.049856   \n",
       "std              32.702630         5.725170     26.696450     27.968974   \n",
       "min               0.600000         4.700000      1.500000      0.100000   \n",
       "25%              27.100000        13.700000     37.600000     37.000000   \n",
       "50%              65.800000        15.000000     61.800000     60.700000   \n",
       "75%              88.600000        16.700000     79.600000     80.250000   \n",
       "max              99.800000       111.000000     99.000000     98.900000   \n",
       "\n",
       "       full_time_teachers  percent_black  percent_white  percent_asian  \\\n",
       "count          347.000000     347.000000     347.000000     347.000000   \n",
       "mean            44.939481      21.197983      61.673487       2.642651   \n",
       "std             22.053386      23.562538      27.274859       3.109629   \n",
       "min              2.000000       0.000000       1.100000       0.000000   \n",
       "25%             30.000000       3.600000      40.600000       0.750000   \n",
       "50%             40.000000      13.500000      68.700000       1.600000   \n",
       "75%             54.000000      28.350000      85.950000       3.100000   \n",
       "max            140.000000      97.400000      99.700000      21.100000   \n",
       "\n",
       "       percent_hispanic  \n",
       "count        347.000000  \n",
       "mean          11.164553  \n",
       "std           12.030608  \n",
       "min            0.000000  \n",
       "25%            3.800000  \n",
       "50%            6.400000  \n",
       "75%           13.800000  \n",
       "max           65.200000  "
      ]
     },
     "execution_count": 5,
     "metadata": {},
     "output_type": "execute_result"
    }
   ],
   "source": [
    "df.describe()\n"
   ]
  },
  {
   "cell_type": "code",
   "execution_count": 12,
   "metadata": {
    "collapsed": false
   },
   "outputs": [
    {
     "data": {
      "text/plain": [
       "<bound method DataFrame.unstack of                      reduced_lunch\n",
       "school_rating                     \n",
       "0             count      43.000000\n",
       "              mean       83.581395\n",
       "              std         8.813498\n",
       "              min        53.000000\n",
       "              25%        79.500000\n",
       "              50%        86.000000\n",
       "              75%        90.000000\n",
       "              max        98.000000\n",
       "1             count      40.000000\n",
       "              mean       74.950000\n",
       "              std        11.644191\n",
       "              min        53.000000\n",
       "              25%        65.000000\n",
       "              50%        74.500000\n",
       "              75%        84.250000\n",
       "              max        98.000000\n",
       "2             count      44.000000\n",
       "              mean       64.272727\n",
       "              std        11.956051\n",
       "              min        37.000000\n",
       "              25%        54.750000\n",
       "              50%        62.500000\n",
       "              75%        74.000000\n",
       "              max        88.000000\n",
       "3             count      56.000000\n",
       "              mean       50.285714\n",
       "              std        13.550866\n",
       "              min        24.000000\n",
       "              25%        41.000000\n",
       "              50%        48.500000\n",
       "              75%        63.000000\n",
       "              max        78.000000\n",
       "4             count      86.000000\n",
       "              mean       41.000000\n",
       "              std        16.681092\n",
       "              min         4.000000\n",
       "              25%        30.000000\n",
       "              50%        41.500000\n",
       "              75%        50.000000\n",
       "              max        87.000000\n",
       "5             count      78.000000\n",
       "              mean       21.602564\n",
       "              std        17.651268\n",
       "              min         2.000000\n",
       "              25%         8.000000\n",
       "              50%        19.000000\n",
       "              75%        29.750000\n",
       "              max        87.000000>"
      ]
     },
     "execution_count": 12,
     "metadata": {},
     "output_type": "execute_result"
    }
   ],
   "source": [
    "df[[\"reduced_lunch\",\"school_rating\"]].groupby([\"school_rating\"]).describe().unstack"
   ]
  },
  {
   "cell_type": "code",
   "execution_count": 13,
   "metadata": {
    "collapsed": false
   },
   "outputs": [
    {
     "data": {
      "text/html": [
       "<div>\n",
       "<table border=\"1\" class=\"dataframe\">\n",
       "  <thead>\n",
       "    <tr style=\"text-align: right;\">\n",
       "      <th></th>\n",
       "      <th>reduced_lunch</th>\n",
       "      <th>school_rating</th>\n",
       "    </tr>\n",
       "  </thead>\n",
       "  <tbody>\n",
       "    <tr>\n",
       "      <th>reduced_lunch</th>\n",
       "      <td>1.000000</td>\n",
       "      <td>-0.815757</td>\n",
       "    </tr>\n",
       "    <tr>\n",
       "      <th>school_rating</th>\n",
       "      <td>-0.815757</td>\n",
       "      <td>1.000000</td>\n",
       "    </tr>\n",
       "  </tbody>\n",
       "</table>\n",
       "</div>"
      ],
      "text/plain": [
       "               reduced_lunch  school_rating\n",
       "reduced_lunch       1.000000      -0.815757\n",
       "school_rating      -0.815757       1.000000"
      ]
     },
     "execution_count": 13,
     "metadata": {},
     "output_type": "execute_result"
    }
   ],
   "source": [
    "df[[\"reduced_lunch\",\"school_rating\"]].corr()"
   ]
  },
  {
   "cell_type": "code",
   "execution_count": null,
   "metadata": {
    "collapsed": true
   },
   "outputs": [],
   "source": []
  },
  {
   "cell_type": "code",
   "execution_count": null,
   "metadata": {
    "collapsed": true
   },
   "outputs": [],
   "source": []
  },
  {
   "cell_type": "code",
   "execution_count": null,
   "metadata": {
    "collapsed": true
   },
   "outputs": [],
   "source": []
  },
  {
   "cell_type": "code",
   "execution_count": null,
   "metadata": {
    "collapsed": true
   },
   "outputs": [],
   "source": []
  },
  {
   "cell_type": "code",
   "execution_count": null,
   "metadata": {
    "collapsed": true
   },
   "outputs": [],
   "source": []
  },
  {
   "cell_type": "code",
   "execution_count": null,
   "metadata": {
    "collapsed": true
   },
   "outputs": [],
   "source": []
  }
 ],
 "metadata": {
  "kernelspec": {
   "display_name": "Python 2",
   "language": "python",
   "name": "python2"
  },
  "language_info": {
   "codemirror_mode": {
    "name": "ipython",
    "version": 2
   },
   "file_extension": ".py",
   "mimetype": "text/x-python",
   "name": "python",
   "nbconvert_exporter": "python",
   "pygments_lexer": "ipython2",
   "version": "2.7.10"
  }
 },
 "nbformat": 4,
 "nbformat_minor": 0
}
